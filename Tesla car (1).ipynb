{
 "cells": [
  {
   "cell_type": "code",
   "execution_count": 1,
   "id": "3259a092",
   "metadata": {},
   "outputs": [
    {
     "name": "stdout",
     "output_type": "stream",
     "text": [
      "Collecting pygame\n",
      "  Downloading pygame-2.1.2-cp39-cp39-win_amd64.whl (8.4 MB)\n",
      "Installing collected packages: pygame\n",
      "Successfully installed pygame-2.1.2\n"
     ]
    }
   ],
   "source": [
    "!pip install pygame"
   ]
  },
  {
   "cell_type": "code",
   "execution_count": null,
   "id": "b0c3983e",
   "metadata": {},
   "outputs": [],
   "source": [
    "import pygame\n",
    "pygame.init()\n",
    "window = pygame.display.set_mode((1200, 400))\n",
    "track = pygame.image.load('track6.png')\n",
    "car = pygame.image.load('tesla.png')\n",
    "car = pygame.transform.scale(car, (30, 60))\n",
    "car_x = 155\n",
    "car_y = 300\n",
    "focal_dis = 25\n",
    "cam_x_offset = 0\n",
    "cam_y_offset = 0\n",
    "direction = 'up'\n",
    "drive = True\n",
    "clock = pygame.time.Clock()\n",
    "while drive:\n",
    "    for event in pygame.event.get():\n",
    "        if event.type == pygame.QUIT:\n",
    "            drive = False\n",
    "    clock.tick(60)\n",
    "    cam_x = car_x + cam_x_offset + 15\n",
    "    cam_y = car_y + cam_y_offset + 15\n",
    "    up_px = window.get_at((cam_x, cam_y - focal_dis))[0]\n",
    "    down_px = window.get_at((cam_x, cam_y + focal_dis))[0]\n",
    "    right_px = window.get_at((cam_x + focal_dis, cam_y))[0]\n",
    "    print(up_px, right_px, down_px)\n",
    "\n",
    "    \n",
    "    if direction == 'up' and up_px != 255 and right_px == 255:\n",
    "        direction = 'right'\n",
    "        cam_x_offset = 30\n",
    "        car = pygame.transform.rotate(car, -90)\n",
    "    elif direction == 'right' and right_px != 255 and down_px == 255:\n",
    "        direction = 'down'\n",
    "        car_x = car_x + 30\n",
    "        cam_x_offset = 0\n",
    "        cam_y_offset = 30\n",
    "        car = pygame.transform.rotate(car, -90)\n",
    "    elif direction == 'down' and down_px != 255 and right_px == 255:\n",
    "        direction = 'right'\n",
    "        car_y = car_y + 30\n",
    "        cam_x_offset = 30\n",
    "        cam_y_offset = 0\n",
    "        car = pygame.transform.rotate(car, 90)\n",
    "    elif direction == 'right' and right_px != 255 and up_px == 255:\n",
    "        direction = 'up'\n",
    "        car_x = car_x + 30\n",
    "        cam_x_offset = 0\n",
    "        car = pygame.transform.rotate(car, 90)\n",
    "    if direction == 'up' and up_px == 255:\n",
    "        car_y = car_y - 2\n",
    "    elif direction == 'right' and right_px == 255:\n",
    "        car_x = car_x + 2\n",
    "    elif direction == 'down' and down_px == 255:\n",
    "        car_y = car_y + 2\n",
    "    window.blit(track, (0, 0))\n",
    "    window.blit(car, (car_x, car_y))\n",
    "    pygame.draw.circle(window, (0, 255, 0), (cam_x, cam_y), 5, 5)\n",
    "    pygame.display.update()"
   ]
  },
  {
   "cell_type": "code",
   "execution_count": null,
   "id": "634bbe28",
   "metadata": {},
   "outputs": [],
   "source": []
  }
 ],
 "metadata": {
  "kernelspec": {
   "display_name": "Python 3 (ipykernel)",
   "language": "python",
   "name": "python3"
  },
  "language_info": {
   "codemirror_mode": {
    "name": "ipython",
    "version": 3
   },
   "file_extension": ".py",
   "mimetype": "text/x-python",
   "name": "python",
   "nbconvert_exporter": "python",
   "pygments_lexer": "ipython3",
   "version": "3.9.7"
  }
 },
 "nbformat": 4,
 "nbformat_minor": 5
}
